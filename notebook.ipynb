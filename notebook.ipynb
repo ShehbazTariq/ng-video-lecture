{
 "cells": [
  {
   "cell_type": "code",
   "execution_count": 17,
   "metadata": {},
   "outputs": [],
   "source": [
    "import torch\n",
    "import torch.nn as nn\n",
    "import torch.nn.functional as F"
   ]
  },
  {
   "cell_type": "code",
   "execution_count": 18,
   "metadata": {},
   "outputs": [
    {
     "data": {
      "text/plain": [
       "<torch._C.Generator at 0x7faff41daed0>"
      ]
     },
     "execution_count": 18,
     "metadata": {},
     "output_type": "execute_result"
    }
   ],
   "source": [
    "torch.manual_seed(1337)"
   ]
  },
  {
   "cell_type": "code",
   "execution_count": 1,
   "metadata": {},
   "outputs": [
    {
     "name": "stdout",
     "output_type": "stream",
     "text": [
      "Length of text: 1115394 characters\n"
     ]
    }
   ],
   "source": [
    "#read the data\n",
    "with open('input.txt', 'r', encoding='utf-8') as f:\n",
    "    text = f.read()\n",
    "\n",
    "print('Length of text: {} characters'.format(len(text)))"
   ]
  },
  {
   "cell_type": "code",
   "execution_count": 2,
   "metadata": {},
   "outputs": [
    {
     "name": "stdout",
     "output_type": "stream",
     "text": [
      "First Citizen:\n",
      "Before we proceed any further, hear me speak.\n",
      "\n",
      "All:\n",
      "Speak, speak.\n",
      "\n",
      "First Citizen:\n",
      "You are all resolved rather to die than to famish?\n",
      "\n",
      "All:\n",
      "Resolved. resolved.\n",
      "\n",
      "First Citizen:\n",
      "First, you know Caius Marcius is chief enemy to the people.\n",
      "\n",
      "All:\n",
      "We know't, we know't.\n",
      "\n",
      "First Citizen:\n",
      "Let us kill him, and we'll have corn at our own price.\n",
      "Is't a verdict?\n",
      "\n",
      "All:\n",
      "No more talking on't; let it be done: away, away!\n",
      "\n",
      "Second Citizen:\n",
      "One word, good citizens.\n",
      "\n",
      "First Citizen:\n",
      "We are accounted poor citizens, the patricians good.\n",
      "What authority surfeits on would relieve us: if they\n",
      "would yield us but the superfluity, while it were\n",
      "wholesome, we might guess they relieved us humanely;\n",
      "but they think we are too dear: the leanness that\n",
      "afflicts us, the object of our misery, is as an\n",
      "inventory to particularise their abundance; our\n",
      "sufferance is a gain to them Let us revenge this with\n",
      "our pikes, ere we become rakes: for the gods know I\n",
      "speak this in hunger for bread, not in thirst for revenge.\n",
      "\n",
      "\n"
     ]
    }
   ],
   "source": [
    "#first 1000 characters\n",
    "print(text[:1000])"
   ]
  },
  {
   "cell_type": "code",
   "execution_count": 3,
   "metadata": {},
   "outputs": [
    {
     "name": "stdout",
     "output_type": "stream",
     "text": [
      "65 unique characters\n",
      "\n",
      "- -!-$-&-'-,---.-3-:-;-?-A-B-C-D-E-F-G-H-I-J-K-L-M-N-O-P-Q-R-S-T-U-V-W-X-Y-Z-a-b-c-d-e-f-g-h-i-j-k-l-m-n-o-p-q-r-s-t-u-v-w-x-y-z\n",
      "vocab_size = 65\n"
     ]
    }
   ],
   "source": [
    "#unique characters in the file\n",
    "chars = sorted(list(set(text)))\n",
    "print('{} unique characters'.format(len(chars)))\n",
    "vocab_size = len(chars)\n",
    "print('-'.join(chars))\n",
    "print('vocab_size = {}'.format(vocab_size))"
   ]
  },
  {
   "cell_type": "code",
   "execution_count": 6,
   "metadata": {},
   "outputs": [
    {
     "name": "stdout",
     "output_type": "stream",
     "text": [
      "[46, 43, 50, 50, 53]\n",
      "hello\n"
     ]
    }
   ],
   "source": [
    "#create a mapping from characters to integers\n",
    "stoi = { ch:i for i,ch in enumerate(chars) }\n",
    "itos = { i:ch for i,ch in enumerate(chars) }\n",
    "encode = lambda s: [stoi[c] for c in s] # encoder: take a string, output a list of integers\n",
    "decode = lambda l: ''.join([itos[i] for i in l]) # decoder: take a list of integers, output a string\n",
    "\n",
    "print(encode('hello'))\n",
    "print(decode(encode('hello')))\n",
    "\n",
    "#there can be many ways to tokenize the text based on merits and demerits (trade-offs)"
   ]
  },
  {
   "cell_type": "code",
   "execution_count": 8,
   "metadata": {},
   "outputs": [
    {
     "name": "stdout",
     "output_type": "stream",
     "text": [
      "torch.Size([1115394]) torch.int64\n",
      "tensor([18, 47, 56, 57, 58,  1, 15, 47, 58, 47, 64, 43, 52, 10,  0, 14, 43, 44,\n",
      "        53, 56, 43,  1, 61, 43,  1, 54, 56, 53, 41, 43, 43, 42,  1, 39, 52, 63,\n",
      "         1, 44, 59, 56, 58, 46, 43, 56,  6,  1, 46, 43, 39, 56,  1, 51, 43,  1,\n",
      "        57, 54, 43, 39, 49,  8,  0,  0, 13, 50, 50, 10,  0, 31, 54, 43, 39, 49,\n",
      "         6,  1, 57, 54, 43, 39, 49,  8,  0,  0, 18, 47, 56, 57, 58,  1, 15, 47,\n",
      "        58, 47, 64, 43, 52, 10,  0, 37, 53, 59])\n"
     ]
    }
   ],
   "source": [
    "# Let's now encode the entire text dataset and store it as a torch tensor\n",
    "data = torch.tensor(encode(text), dtype=torch.long)\n",
    "print(data.shape, data.dtype)\n",
    "print(data[:100])"
   ]
  },
  {
   "cell_type": "code",
   "execution_count": 9,
   "metadata": {},
   "outputs": [],
   "source": [
    "#split the data into train and test\n",
    "n = int(0.9*len(data)) # first 90% will be train, rest val\n",
    "train_data = data[:n]\n",
    "val_data = data[n:]"
   ]
  },
  {
   "cell_type": "code",
   "execution_count": 11,
   "metadata": {},
   "outputs": [
    {
     "data": {
      "text/plain": [
       "tensor([18, 47, 56, 57, 58,  1, 15, 47, 58])"
      ]
     },
     "execution_count": 11,
     "metadata": {},
     "output_type": "execute_result"
    }
   ],
   "source": [
    "block_size = 8 # spatial extent of the model for its context window (how many characters to look back) \n",
    "train_data[:block_size+1] # first 9 characters (first 8 plus the 9th for the target) "
   ]
  },
  {
   "cell_type": "code",
   "execution_count": 14,
   "metadata": {},
   "outputs": [
    {
     "name": "stdout",
     "output_type": "stream",
     "text": [
      "When input is tensor([18]), target is [tensor(47)]\n",
      "When input is tensor([18, 47]), target is [tensor(56)]\n",
      "When input is tensor([18, 47, 56]), target is [tensor(57)]\n",
      "When input is tensor([18, 47, 56, 57]), target is [tensor(58)]\n",
      "When input is tensor([18, 47, 56, 57, 58]), target is [tensor(1)]\n",
      "When input is tensor([18, 47, 56, 57, 58,  1]), target is [tensor(15)]\n",
      "When input is tensor([18, 47, 56, 57, 58,  1, 15]), target is [tensor(47)]\n",
      "When input is tensor([18, 47, 56, 57, 58,  1, 15, 47]), target is [tensor(58)]\n"
     ]
    }
   ],
   "source": [
    "x = train_data[:block_size]\n",
    "y = train_data[1:block_size+1]\n",
    "for t in range(block_size):\n",
    "    context = x[:t+1]\n",
    "    target = y[t]\n",
    "    print(f'When input is {context}, target is {[target]}')"
   ]
  },
  {
   "cell_type": "code",
   "execution_count": 16,
   "metadata": {},
   "outputs": [
    {
     "name": "stdout",
     "output_type": "stream",
     "text": [
      "torch.Size([4, 8]) torch.Size([4, 8])\n",
      "tensor([[24, 43, 58,  5, 57,  1, 46, 43],\n",
      "        [44, 53, 56,  1, 58, 46, 39, 58],\n",
      "        [52, 58,  1, 58, 46, 39, 58,  1],\n",
      "        [25, 17, 27, 10,  0, 21,  1, 54]])\n",
      "tensor([[43, 58,  5, 57,  1, 46, 43, 39],\n",
      "        [53, 56,  1, 58, 46, 39, 58,  1],\n",
      "        [58,  1, 58, 46, 39, 58,  1, 46],\n",
      "        [17, 27, 10,  0, 21,  1, 54, 39]])\n",
      "-----------------\n",
      "Batch 1\n",
      "When input is tensor([24]), target is [tensor(43)]\n",
      "When input is tensor([24, 43]), target is [tensor(58)]\n",
      "When input is tensor([24, 43, 58]), target is [tensor(5)]\n",
      "When input is tensor([24, 43, 58,  5]), target is [tensor(57)]\n",
      "When input is tensor([24, 43, 58,  5, 57]), target is [tensor(1)]\n",
      "When input is tensor([24, 43, 58,  5, 57,  1]), target is [tensor(46)]\n",
      "When input is tensor([24, 43, 58,  5, 57,  1, 46]), target is [tensor(43)]\n",
      "When input is tensor([24, 43, 58,  5, 57,  1, 46, 43]), target is [tensor(39)]\n",
      "Batch 2\n",
      "When input is tensor([44]), target is [tensor(53)]\n",
      "When input is tensor([44, 53]), target is [tensor(56)]\n",
      "When input is tensor([44, 53, 56]), target is [tensor(1)]\n",
      "When input is tensor([44, 53, 56,  1]), target is [tensor(58)]\n",
      "When input is tensor([44, 53, 56,  1, 58]), target is [tensor(46)]\n",
      "When input is tensor([44, 53, 56,  1, 58, 46]), target is [tensor(39)]\n",
      "When input is tensor([44, 53, 56,  1, 58, 46, 39]), target is [tensor(58)]\n",
      "When input is tensor([44, 53, 56,  1, 58, 46, 39, 58]), target is [tensor(1)]\n",
      "Batch 3\n",
      "When input is tensor([52]), target is [tensor(58)]\n",
      "When input is tensor([52, 58]), target is [tensor(1)]\n",
      "When input is tensor([52, 58,  1]), target is [tensor(58)]\n",
      "When input is tensor([52, 58,  1, 58]), target is [tensor(46)]\n",
      "When input is tensor([52, 58,  1, 58, 46]), target is [tensor(39)]\n",
      "When input is tensor([52, 58,  1, 58, 46, 39]), target is [tensor(58)]\n",
      "When input is tensor([52, 58,  1, 58, 46, 39, 58]), target is [tensor(1)]\n",
      "When input is tensor([52, 58,  1, 58, 46, 39, 58,  1]), target is [tensor(46)]\n",
      "Batch 4\n",
      "When input is tensor([25]), target is [tensor(17)]\n",
      "When input is tensor([25, 17]), target is [tensor(27)]\n",
      "When input is tensor([25, 17, 27]), target is [tensor(10)]\n",
      "When input is tensor([25, 17, 27, 10]), target is [tensor(0)]\n",
      "When input is tensor([25, 17, 27, 10,  0]), target is [tensor(21)]\n",
      "When input is tensor([25, 17, 27, 10,  0, 21]), target is [tensor(1)]\n",
      "When input is tensor([25, 17, 27, 10,  0, 21,  1]), target is [tensor(54)]\n",
      "When input is tensor([25, 17, 27, 10,  0, 21,  1, 54]), target is [tensor(39)]\n"
     ]
    }
   ],
   "source": [
    "batch_size = 4 # number of sequences in a mini-batch (number of samples processed in parallel)\n",
    "block_size = 8  # length of a sequence (number of tokens in a sample) \n",
    "\n",
    "def get_batch(split):\n",
    "    #genertae a small batch of data of input x and target y\n",
    "    data = train_data if split == 'train' else val_data\n",
    "    ix = torch.randint(len(data) - block_size, (batch_size,))\n",
    "    x = torch.stack([data[i:i+block_size] for i in ix])\n",
    "    y = torch.stack([data[i+1:i+block_size+1] for i in ix])\n",
    "    return x, y\n",
    "\n",
    "xb, yb = get_batch('train')\n",
    "print(xb.shape, yb.shape)\n",
    "print(xb)\n",
    "print(yb)\n",
    "\n",
    "print('-----------------')\n",
    "\n",
    "for b in range(batch_size):\n",
    "    print(f'Batch {b+1}')\n",
    "    for t in range(block_size):\n",
    "        context = xb[b, :t+1]\n",
    "        target = yb[b, t]\n",
    "        print(f'When input is {context}, target is {[target]}')"
   ]
  },
  {
   "cell_type": "code",
   "execution_count": 30,
   "metadata": {},
   "outputs": [
    {
     "name": "stdout",
     "output_type": "stream",
     "text": [
      "torch.Size([4, 8, 65])\n",
      "tensor(4.3173, grad_fn=<NllLossBackward0>)\n",
      "\n",
      "xnmfn'Qm:F$D! \n",
      "lS:EsG;$\n",
      "ralL,!ODnzi;rdYC?Xm3pRzV'RsH hq:OLAtbCUMXBMd'px,M'xhoi\n",
      "GXNUSFyv'ulEb,bCS:XCX\n"
     ]
    }
   ],
   "source": [
    "class BigramLanguageModel(nn.Module):\n",
    "    \n",
    "    def __init__(self,vocab_size):\n",
    "        super().__init__()\n",
    "        # each token directly reads off the logits for the next token from a lookup table\n",
    "        self.token_embedding_table = nn.Embedding(vocab_size, vocab_size)\n",
    "    \n",
    "    def forward(self, idx, targets=None):\n",
    "\n",
    "        #idx and targets are both of shape (batch_size, block_size)\n",
    "        logits = self.token_embedding_table(idx) # shape (batch_size, block_size, vocab_size)\n",
    "        #B, T, C = logits.shape\n",
    "        #logits = logits.view(B*T, C) # shape (batch_size*block_size, vocab_size)\n",
    "        #targets = targets.view(-1) # shape (batch_size*block_size,)\n",
    "        if targets is not None:\n",
    "            loss = F.cross_entropy(logits.view(-1, vocab_size), targets.view(-1))\n",
    "        else:\n",
    "            loss = None\n",
    "        \n",
    "        return logits, loss\n",
    "    \n",
    "    def generate(self, idx, max_new_tokens):\n",
    "        #idx is of shape (batch_size, block_size) and contains the starting tokens for each sequence\n",
    "        for _ in range(max_new_tokens):\n",
    "            #get the logits for the next token\n",
    "            logits, _ = self(idx)\n",
    "            # focus on the last token for each sequence\n",
    "            logits = logits[:, -1, :] # shape (batch_size, vocab_size)\n",
    "            # sample the next token from the probability distribution for each sequence in the batch \n",
    "            # (we use multinomial instead of argmax here to introduce some randomness and avoid loops)\n",
    "            probs = F.softmax(logits, dim=-1) # shape (batch_size, vocab_size)\n",
    "            idx_next = torch.multinomial(probs, num_samples=1) # shape (batch_size, 1)\n",
    "            idx = torch.cat([idx, idx_next], dim=1) # shape (batch_size, block_size+1)\n",
    "        return idx\n",
    "    \n",
    "m = BigramLanguageModel(vocab_size)\n",
    "out, loss = m(xb, yb)\n",
    "print(out.shape)\n",
    "print(loss)\n",
    "print(decode(m.generate((torch.zeros((1,1), dtype=torch.long)), max_new_tokens=100)[0].tolist()))"
   ]
  },
  {
   "cell_type": "code",
   "execution_count": 31,
   "metadata": {},
   "outputs": [],
   "source": [
    "optimizer = torch.optim.Adam(m.parameters(), lr=1e-3)"
   ]
  },
  {
   "cell_type": "code",
   "execution_count": 36,
   "metadata": {},
   "outputs": [
    {
     "name": "stdout",
     "output_type": "stream",
     "text": [
      "Step 0, loss = 2.4978713989257812\n",
      "Step 1000, loss = 2.388235330581665\n",
      "Step 2000, loss = 2.4288995265960693\n",
      "Step 3000, loss = 2.492995500564575\n",
      "Step 4000, loss = 2.6295342445373535\n",
      "Step 5000, loss = 2.421825647354126\n",
      "Step 6000, loss = 2.4721992015838623\n",
      "Step 7000, loss = 2.5137646198272705\n",
      "Step 8000, loss = 2.445064067840576\n",
      "Step 9000, loss = 2.4209587574005127\n"
     ]
    }
   ],
   "source": [
    "batch_size = 32\n",
    "for steps in range(10000):\n",
    "    #get a batch of data\n",
    "    x, y = get_batch('train')\n",
    "    #forward pass\n",
    "    logits, loss = m(x, y)\n",
    "    #backward pass\n",
    "    loss.backward()\n",
    "    #update parameters\n",
    "    optimizer.step()\n",
    "    optimizer.zero_grad()\n",
    "    if steps % 1000 == 0:\n",
    "        print(f'Step {steps}, loss = {loss.item()}')"
   ]
  },
  {
   "cell_type": "code",
   "execution_count": 38,
   "metadata": {},
   "outputs": [
    {
     "name": "stdout",
     "output_type": "stream",
     "text": [
      "\n",
      "Le IIO: iurqund My,\n",
      "Thf r n h!\n",
      "QUS:\n",
      "NGo\n",
      "Thth\n",
      "\n",
      "\n",
      "THAUCatowie werdesh, th,--f s mitot ust ans? Y:\n",
      "VIs, myo be s p d, k pilll geinget wh\n",
      "Thingarat\n",
      "MO,\n",
      "He the; omescor wst oro bois inde; RK:\n",
      "IV:\n",
      "ABO Ris, o\n"
     ]
    }
   ],
   "source": [
    "print(decode(m.generate((torch.zeros((1,1), dtype=torch.long)), max_new_tokens=200)[0].tolist()))"
   ]
  },
  {
   "cell_type": "code",
   "execution_count": 40,
   "metadata": {},
   "outputs": [
    {
     "data": {
      "text/plain": [
       "torch.Size([4, 8, 2])"
      ]
     },
     "execution_count": 40,
     "metadata": {},
     "output_type": "execute_result"
    }
   ],
   "source": [
    "# Mathematical trick in self attention\n",
    "\n",
    "B, T, C = 4, 8, 2 # batch size, sequence length, channels\n",
    "x = torch.randn(B, T, C) # random input\n",
    "x.shape"
   ]
  },
  {
   "cell_type": "code",
   "execution_count": 41,
   "metadata": {},
   "outputs": [],
   "source": [
    "# We want x[b,t] = mean_{i<=t} x[b,i] for all b,t\n",
    "xbow = torch.zeros(B, T, C) # output\n",
    "for b in range(B):\n",
    "    for t in range(T):\n",
    "        xbow[b,t] = x[b,:t+1].mean(dim=0)"
   ]
  },
  {
   "cell_type": "code",
   "execution_count": 42,
   "metadata": {},
   "outputs": [
    {
     "data": {
      "text/plain": [
       "tensor([[-0.4576,  0.9253],\n",
       "        [-0.0093,  1.2836],\n",
       "        [-0.8215,  0.0609],\n",
       "        [-0.6706, -1.4099],\n",
       "        [ 0.4213, -0.8366],\n",
       "        [ 0.7078, -2.0029],\n",
       "        [-1.2218, -0.6679],\n",
       "        [-0.1762, -0.9599]])"
      ]
     },
     "execution_count": 42,
     "metadata": {},
     "output_type": "execute_result"
    }
   ],
   "source": [
    "x[0]"
   ]
  },
  {
   "cell_type": "code",
   "execution_count": 43,
   "metadata": {},
   "outputs": [
    {
     "data": {
      "text/plain": [
       "tensor([[-0.4576,  0.9253],\n",
       "        [-0.2335,  1.1045],\n",
       "        [-0.4295,  0.7566],\n",
       "        [-0.4898,  0.2150],\n",
       "        [-0.3075,  0.0047],\n",
       "        [-0.1383, -0.3299],\n",
       "        [-0.2931, -0.3782],\n",
       "        [-0.2785, -0.4509]])"
      ]
     },
     "execution_count": 43,
     "metadata": {},
     "output_type": "execute_result"
    }
   ],
   "source": [
    "xbow[0]"
   ]
  },
  {
   "cell_type": "code",
   "execution_count": 46,
   "metadata": {},
   "outputs": [
    {
     "name": "stdout",
     "output_type": "stream",
     "text": [
      "a =  tensor([[1., 1., 1.],\n",
      "        [1., 1., 1.],\n",
      "        [1., 1., 1.]])\n",
      "-----------------\n",
      "b =  tensor([[8., 0.],\n",
      "        [1., 3.],\n",
      "        [0., 3.]])\n",
      "-----------------\n",
      "c =  tensor([[9., 6.],\n",
      "        [9., 6.],\n",
      "        [9., 6.]])\n"
     ]
    }
   ],
   "source": [
    "a = torch.ones(3,3)\n",
    "b = torch.randint(0, 10, (3,2)).float()\n",
    "c= a @ b\n",
    "print('a = ', a)\n",
    "print('-----------------')\n",
    "print('b = ', b)\n",
    "print('-----------------')\n",
    "print('c = ', c)\n"
   ]
  },
  {
   "cell_type": "code",
   "execution_count": 49,
   "metadata": {},
   "outputs": [
    {
     "name": "stdout",
     "output_type": "stream",
     "text": [
      "a =  tensor([[1.0000, 0.0000, 0.0000],\n",
      "        [0.5000, 0.5000, 0.0000],\n",
      "        [0.3333, 0.3333, 0.3333]])\n",
      "-----------------\n",
      "b =  tensor([[4., 5.],\n",
      "        [5., 7.],\n",
      "        [7., 0.]])\n",
      "-----------------\n",
      "c =  tensor([[4.0000, 5.0000],\n",
      "        [4.5000, 6.0000],\n",
      "        [5.3333, 4.0000]])\n"
     ]
    }
   ],
   "source": [
    "a = torch.tril(torch.ones(3,3))\n",
    "a = a/a.sum(dim=1, keepdim=True)\n",
    "b = torch.randint(0, 10, (3,2)).float()\n",
    "c= a @ b\n",
    "print('a = ', a)\n",
    "print('-----------------')\n",
    "print('b = ', b)\n",
    "print('-----------------')\n",
    "print('c = ', c)"
   ]
  },
  {
   "cell_type": "code",
   "execution_count": 50,
   "metadata": {},
   "outputs": [
    {
     "data": {
      "text/plain": [
       "True"
      ]
     },
     "execution_count": 50,
     "metadata": {},
     "output_type": "execute_result"
    }
   ],
   "source": [
    "#v2\n",
    "wei = torch.tril(torch.ones(T,T))\n",
    "wei = wei/wei.sum(dim=1, keepdim=True)\n",
    "xbow2 = wei @ x # shape (B, T, C) \n",
    "torch.allclose(xbow, xbow2)"
   ]
  },
  {
   "cell_type": "code",
   "execution_count": 51,
   "metadata": {},
   "outputs": [
    {
     "data": {
      "text/plain": [
       "True"
      ]
     },
     "execution_count": 51,
     "metadata": {},
     "output_type": "execute_result"
    }
   ],
   "source": [
    "#v3\n",
    "tril = torch.tril(torch.ones(T,T))\n",
    "wei = torch.zeros((T,T))\n",
    "wei = wei.masked_fill(tril==0, float('-inf'))\n",
    "wei = F.softmax(wei, dim=-1)\n",
    "xbow3 = wei @ x # shape (B, T, C)\n",
    "\n",
    "torch.allclose(xbow, xbow3)"
   ]
  },
  {
   "cell_type": "code",
   "execution_count": null,
   "metadata": {},
   "outputs": [],
   "source": []
  }
 ],
 "metadata": {
  "kernelspec": {
   "display_name": "tf",
   "language": "python",
   "name": "python3"
  },
  "language_info": {
   "codemirror_mode": {
    "name": "ipython",
    "version": 3
   },
   "file_extension": ".py",
   "mimetype": "text/x-python",
   "name": "python",
   "nbconvert_exporter": "python",
   "pygments_lexer": "ipython3",
   "version": "3.11.3"
  },
  "orig_nbformat": 4
 },
 "nbformat": 4,
 "nbformat_minor": 2
}
